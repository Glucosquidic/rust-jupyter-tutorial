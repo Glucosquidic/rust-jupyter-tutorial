{
 "cells": [
  {
   "cell_type": "markdown",
   "id": "7f140166-6e35-48dd-b8dd-6ec39f25bf4b",
   "metadata": {},
   "source": [
    "# Divisible by 10 Comparison"
   ]
  },
  {
   "cell_type": "markdown",
   "id": "9e0ce37f-3a87-4c7a-9787-17d2e1533463",
   "metadata": {},
   "source": [
    "## Rust"
   ]
  },
  {
   "cell_type": "code",
   "execution_count": 2,
   "id": "46481852-77d6-4b79-81ac-3ded831d5e55",
   "metadata": {},
   "outputs": [],
   "source": [
    ":dep rand"
   ]
  },
  {
   "cell_type": "code",
   "execution_count": 20,
   "id": "116757f1-44c5-43c9-8915-a40eece28dda",
   "metadata": {},
   "outputs": [],
   "source": [
    "use std::time::Instant;\n",
    "use rand::Rng;\n",
    "fn generate_random_nums(num_samples: usize, upper_bound: u32) -> Vec<u32> {\n",
    "    let mut rng = rand::thread_rng();\n",
    "    let random_numbers: Vec<u32> = (0..num_samples)\n",
    "        .map(|_| rng.gen_range(0..upper_bound))\n",
    "        .collect();\n",
    "    let divisible_by_ten: Vec<u32> = random_numbers\n",
    "        .into_iter()\n",
    "        .filter(|&n| n % 10 == 0)\n",
    "        .collect();\n",
    "    // return the vector that is divisible by 10\n",
    "    divisible_by_ten\n",
    "}"
   ]
  },
  {
   "cell_type": "code",
   "execution_count": 21,
   "id": "0b03c023-2ac5-406b-8175-c28153fc6347",
   "metadata": {},
   "outputs": [],
   "source": [
    "fn main() {\n",
    "    let start_time = Instant::now();\n",
    "    let num_samples=10000000;\n",
    "    let upper_bound = 10000000;\n",
    "\n",
    "    let results: Vec<u32> = generate_random_nums(num_samples, upper_bound);\n",
    "\n",
    "    let elapsed_time = start_time.elapsed();\n",
    "\n",
    "    println!(\"Finding {:?} numbers divisible by 10 with no remainder took: {:?} seconds using Rust.\", results.len(), elapsed_time);\n",
    "}"
   ]
  },
  {
   "cell_type": "code",
   "execution_count": 23,
   "id": "ab6fbbe4-a3dc-4535-bd68-ad759dd1ba56",
   "metadata": {},
   "outputs": [
    {
     "name": "stdout",
     "output_type": "stream",
     "text": [
      "Finding 999960 numbers divisible by 10 with no remainder took: 141.427818ms seconds using Rust.\n"
     ]
    },
    {
     "data": {
      "text/plain": [
       "()"
      ]
     },
     "execution_count": 23,
     "metadata": {},
     "output_type": "execute_result"
    }
   ],
   "source": [
    "main()"
   ]
  },
  {
   "cell_type": "markdown",
   "id": "2c1f8d66-75d2-45fb-8c9c-8342345a634d",
   "metadata": {},
   "source": [
    "## Rust Again, but using structs and enums"
   ]
  },
  {
   "cell_type": "code",
   "execution_count": 15,
   "id": "9bfaffb0-d713-43b2-9b02-0d8da0647f24",
   "metadata": {},
   "outputs": [],
   "source": [
    "use std::time::Instant;\n",
    "use rand::Rng;\n",
    "use std::thread;\n",
    "\n",
    "// structure \n",
    "#[derive(Clone)]\n",
    "struct NumberGenerator {\n",
    "    num_samples: u32,\n",
    "    upper_bound: u32\n",
    "}\n",
    "\n",
    "// defining new function that implements the structure and associated methods\n",
    "\n",
    "impl NumberGenerator {\n",
    "    fn new(num_samples: u32, upper_bound: u32) -> Self {\n",
    "        NumberGenerator { num_samples, upper_bound }\n",
    "    }\n",
    "\n",
    "    fn generate(&self) -> Vec<u32> {\n",
    "        let mut random_generator = rand::thread_rng();\n",
    "        // since no ; is at the end of the line below, this is the default variable returned by the \n",
    "        // function, which will be of the data type Vec<u32>\n",
    "        (0..self.num_samples).map(|_| random_generator.gen_range(0..self.upper_bound)).collect()\n",
    "    }\n",
    "    fn filter(&self, numbers: Vec<u32>) -> Vec<u32> {\n",
    "        numbers.into_iter().filter(|&n| n % 10 == 0).collect()\n",
    "    }\n",
    "}\n",
    "\n",
    "enum Operation {\n",
    "    Generate,\n",
    "    Filter,\n",
    "}\n",
    "\n",
    "fn execute_operation(op: Operation, generator: &NumberGenerator, numbers: Option<Vec<u32>>) -> Result<Vec<u32>, &'static str> {\n",
    "    match op {\n",
    "        Operation::Generate => Ok(generator.generate()),\n",
    "        Operation::Filter => {\n",
    "            match numbers {\n",
    "                Some(nums) => Ok(generator.filter(nums)),\n",
    "                None => Err(\"No numbers provided\")\n",
    "            }\n",
    "        }\n",
    "    }        \n",
    "}\n",
    "\n",
    "fn main() {\n",
    "\n",
    "    let start_time = Instant::now();\n",
    "    let generator = NumberGenerator::new(10000000, 10000000);\n",
    "    let generator_clone = generator.clone();\n",
    "    let handle = thread::spawn(move || {\n",
    "        execute_operation(Operation::Generate, &generator_clone, None).unwrap()\n",
    "    });\n",
    "\n",
    "    let numbers = handle.join().unwrap();\n",
    "    let elapsed_time = start_time.elapsed();\n",
    "    match execute_operation(Operation::Filter, &generator, Some(numbers)) {\n",
    "        Ok(filtered_numbers) => println!(\"Finding {:?} numbers divisible by 10 with no remainder took: {:?} seconds using Rust.\", filtered_numbers.len(), elapsed_time),\n",
    "        Err(e) => println!(\"Error: {}\", e),\n",
    "    }\n",
    "}"
   ]
  },
  {
   "cell_type": "code",
   "execution_count": 19,
   "id": "9ffe16db-ca6f-4c2a-a646-5e935c3a10de",
   "metadata": {},
   "outputs": [
    {
     "name": "stdout",
     "output_type": "stream",
     "text": [
      "Finding 1000394 numbers divisible by 10 with no remainder took: 130.613635ms seconds using Rust.\n"
     ]
    },
    {
     "data": {
      "text/plain": [
       "()"
      ]
     },
     "execution_count": 19,
     "metadata": {},
     "output_type": "execute_result"
    }
   ],
   "source": [
    "main()"
   ]
  },
  {
   "cell_type": "markdown",
   "id": "f7b0d1d6-7cb0-427f-94a8-07c368052744",
   "metadata": {},
   "source": [
    "## Python"
   ]
  },
  {
   "cell_type": "code",
   "execution_count": 1,
   "id": "13c778e2-42d9-499f-935f-3586d2a91d9e",
   "metadata": {},
   "outputs": [],
   "source": [
    "import random\n",
    "import time\n",
    "def generate_random_nums(num_samples: int, upper_bound: int) -> list:\n",
    "    \n",
    "    random_numbers = [random.randint(0, upper_bound - 1) for _ in range(0, num_samples)]\n",
    "\n",
    "    divisible_by_ten = [i for i in random_numbers if i % 10 == 0]\n",
    "\n",
    "    return divisible_by_ten\n",
    "    "
   ]
  },
  {
   "cell_type": "code",
   "execution_count": 2,
   "id": "5ae5bb96-cd16-48e7-a0ed-2e0ec0caee84",
   "metadata": {},
   "outputs": [],
   "source": [
    "def main():\n",
    "\n",
    "    num_samples = 10000000\n",
    "    upper_bound = 10000000\n",
    "    \n",
    "    start_time = time.time()\n",
    "\n",
    "    results = generate_random_nums(num_samples, upper_bound)\n",
    "\n",
    "    elapsed_time = time.time()\n",
    "\n",
    "    time_diff_ms= (elapsed_time - start_time)*1000\n",
    "\n",
    "    print(\"Finding {} numbers divisible by 10 with no remainder took {}ms using Python.\".format(len(results), time_diff_ms))"
   ]
  },
  {
   "cell_type": "code",
   "execution_count": 3,
   "id": "22765cee-8c0b-487a-8212-87eb40742473",
   "metadata": {},
   "outputs": [
    {
     "name": "stdout",
     "output_type": "stream",
     "text": [
      "Finding 1001397 numbers divisible by 10 with no remainder took 7879.361867904663ms using Python\n"
     ]
    }
   ],
   "source": [
    "main()"
   ]
  },
  {
   "cell_type": "markdown",
   "id": "61879754-ebdf-4d55-a793-4fb464a4245f",
   "metadata": {},
   "source": [
    "# Neural Networks"
   ]
  },
  {
   "cell_type": "markdown",
   "id": "ae8e884e-c3bc-4ac6-ac12-4bb1a8093a9c",
   "metadata": {},
   "source": [
    "## Rust"
   ]
  },
  {
   "cell_type": "code",
   "execution_count": 2,
   "id": "3e65489b-443c-44dd-b964-c630f0a82171",
   "metadata": {},
   "outputs": [
    {
     "ename": "Error",
     "evalue": "unresolved import `tch`",
     "output_type": "error",
     "traceback": [
      "\u001b[31m[E0432] Error:\u001b[0m unresolved import `tch`"
     ]
    }
   ],
   "source": [
    "use tch::Tensor;\n",
    "\n",
    "fn main() {\n",
    "    let t = Tensor::from_slice(&[3, 1, 4, 1, 5]);\n",
    "    let t = t * 2;\n",
    "    t.print();\n",
    "}"
   ]
  },
  {
   "cell_type": "code",
   "execution_count": null,
   "id": "d7f99c54-484d-4bf2-b424-0031c9b6872f",
   "metadata": {},
   "outputs": [],
   "source": []
  }
 ],
 "metadata": {
  "kernelspec": {
   "display_name": "Rust",
   "language": "rust",
   "name": "rust"
  },
  "language_info": {
   "codemirror_mode": "rust",
   "file_extension": ".rs",
   "mimetype": "text/rust",
   "name": "Rust",
   "pygment_lexer": "rust",
   "version": ""
  }
 },
 "nbformat": 4,
 "nbformat_minor": 5
}
