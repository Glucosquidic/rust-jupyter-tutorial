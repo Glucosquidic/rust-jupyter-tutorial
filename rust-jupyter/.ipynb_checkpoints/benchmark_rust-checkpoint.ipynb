{
 "cells": [
  {
   "cell_type": "markdown",
   "id": "7f140166-6e35-48dd-b8dd-6ec39f25bf4b",
   "metadata": {},
   "source": [
    "# Divisible by 10 Comparison"
   ]
  },
  {
   "cell_type": "markdown",
   "id": "9e0ce37f-3a87-4c7a-9787-17d2e1533463",
   "metadata": {},
   "source": [
    "## Rust"
   ]
  },
  {
   "cell_type": "code",
   "execution_count": 2,
   "id": "46481852-77d6-4b79-81ac-3ded831d5e55",
   "metadata": {},
   "outputs": [],
   "source": [
    ":dep rand"
   ]
  },
  {
   "cell_type": "code",
   "execution_count": 7,
   "id": "116757f1-44c5-43c9-8915-a40eece28dda",
   "metadata": {},
   "outputs": [],
   "source": [
    "use std::time::Instant;\n",
    "use rand::Rng;\n",
    "fn generate_random_nums(num_samples: usize, upper_bound: u32) -> Vec<u32> {\n",
    "    let mut rng = rand::thread_rng();\n",
    "    let random_numbers: Vec<u32> = (0..num_samples)\n",
    "        .map(|_| rng.gen_range(0..upper_bound))\n",
    "        .collect();\n",
    "    let divisible_by_ten: Vec<u32> = random_numbers\n",
    "        .into_iter()\n",
    "        .filter(|&n| n % 10 == 0)\n",
    "        .collect();\n",
    "    // return the vector that is divisible by 10\n",
    "    divisible_by_ten\n",
    "}"
   ]
  },
  {
   "cell_type": "code",
   "execution_count": 20,
   "id": "0b03c023-2ac5-406b-8175-c28153fc6347",
   "metadata": {},
   "outputs": [],
   "source": [
    "fn main() {\n",
    "    let start_time = Instant::now();\n",
    "    let num_samples=10000000;\n",
    "    let upper_bound = 10000000;\n",
    "\n",
    "    let results: Vec<u32> = generate_random_nums(num_samples, upper_bound);\n",
    "\n",
    "    let elapsed_time = start_time.elapsed();\n",
    "\n",
    "    println!(\"Finding {:?} numbers divisible by 10 with no remainder took: {:?} seconds using Rust.\", results.len(), elapsed_time);\n",
    "}"
   ]
  },
  {
   "cell_type": "code",
   "execution_count": 24,
   "id": "ab6fbbe4-a3dc-4535-bd68-ad759dd1ba56",
   "metadata": {},
   "outputs": [
    {
     "name": "stdout",
     "output_type": "stream",
     "text": [
      "Finding 1001399 numbers divisible by 10 with no remainder took: 143.43041ms seconds using Rust.\n"
     ]
    },
    {
     "data": {
      "text/plain": [
       "()"
      ]
     },
     "execution_count": 24,
     "metadata": {},
     "output_type": "execute_result"
    }
   ],
   "source": [
    "main()"
   ]
  },
  {
   "cell_type": "markdown",
   "id": "f7b0d1d6-7cb0-427f-94a8-07c368052744",
   "metadata": {},
   "source": [
    "## Python"
   ]
  },
  {
   "cell_type": "code",
   "execution_count": 1,
   "id": "13c778e2-42d9-499f-935f-3586d2a91d9e",
   "metadata": {},
   "outputs": [],
   "source": [
    "import random\n",
    "import time\n",
    "def generate_random_nums(num_samples: int, upper_bound: int) -> list:\n",
    "    \n",
    "    random_numbers = [random.randint(0, upper_bound - 1) for _ in range(0, num_samples)]\n",
    "\n",
    "    divisible_by_ten = [i for i in random_numbers if i % 10 == 0]\n",
    "\n",
    "    return divisible_by_ten\n",
    "    "
   ]
  },
  {
   "cell_type": "code",
   "execution_count": 2,
   "id": "5ae5bb96-cd16-48e7-a0ed-2e0ec0caee84",
   "metadata": {},
   "outputs": [],
   "source": [
    "def main():\n",
    "\n",
    "    num_samples = 10000000\n",
    "    upper_bound = 10000000\n",
    "    \n",
    "    start_time = time.time()\n",
    "\n",
    "    results = generate_random_nums(num_samples, upper_bound)\n",
    "\n",
    "    elapsed_time = time.time()\n",
    "\n",
    "    time_diff_ms= (elapsed_time - start_time)*1000\n",
    "\n",
    "    print(\"Finding {} numbers divisible by 10 with no remainder took {}ms using Python.\".format(len(results), time_diff_ms))"
   ]
  },
  {
   "cell_type": "code",
   "execution_count": 3,
   "id": "22765cee-8c0b-487a-8212-87eb40742473",
   "metadata": {},
   "outputs": [
    {
     "name": "stdout",
     "output_type": "stream",
     "text": [
      "Finding 1001397 numbers divisible by 10 with no remainder took 7879.361867904663ms using Python\n"
     ]
    }
   ],
   "source": [
    "main()"
   ]
  },
  {
   "cell_type": "markdown",
   "id": "61879754-ebdf-4d55-a793-4fb464a4245f",
   "metadata": {},
   "source": [
    "# Linear Algebra"
   ]
  },
  {
   "cell_type": "markdown",
   "id": "ae8e884e-c3bc-4ac6-ac12-4bb1a8093a9c",
   "metadata": {},
   "source": [
    "## Rust"
   ]
  },
  {
   "cell_type": "code",
   "execution_count": 49,
   "id": "3e65489b-443c-44dd-b964-c630f0a82171",
   "metadata": {},
   "outputs": [],
   "source": [
    ":dep nalgebra"
   ]
  },
  {
   "cell_type": "code",
   "execution_count": null,
   "id": "d7f99c54-484d-4bf2-b424-0031c9b6872f",
   "metadata": {},
   "outputs": [],
   "source": []
  }
 ],
 "metadata": {
  "kernelspec": {
   "display_name": "Rust",
   "language": "rust",
   "name": "rust"
  },
  "language_info": {
   "codemirror_mode": "rust",
   "file_extension": ".rs",
   "mimetype": "text/rust",
   "name": "Rust",
   "pygment_lexer": "rust",
   "version": ""
  }
 },
 "nbformat": 4,
 "nbformat_minor": 5
}
